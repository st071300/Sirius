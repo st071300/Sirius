{
 "cells": [
  {
   "cell_type": "markdown",
   "id": "d8d8191c",
   "metadata": {},
   "source": [
    "## Решение уравнения конвекции-диффузии методом конечных разностей\n",
    "\n",
    "Работу выполнили:\n",
    "\n",
    "Щудро Т.\n",
    "\n",
    "Вождаева Ю."
   ]
  },
  {
   "cell_type": "markdown",
   "id": "a8d43852",
   "metadata": {},
   "source": [
    "## Стационарное уравнение конвекции-диффузии:\n",
    "$$Pe\\frac{\\partial u}{\\partial x} - \\frac{\\partial^2 u}{\\partial x^2} = 0$$  на отрезке $[0,1]$ $$u(0) = 0$$ $$u(1) = 1$$ точное решение: $$u(x) = \\frac{e^{Pe*x}-1}{e^{Pe}-1}$$"
   ]
  },
  {
   "cell_type": "code",
   "execution_count": 1,
   "id": "af631b7e",
   "metadata": {},
   "outputs": [],
   "source": [
    "from math import *\n",
    "import numpy as np\n",
    "import matplotlib.pyplot as plt\n",
    "import pandas as pd"
   ]
  },
  {
   "cell_type": "code",
   "execution_count": 2,
   "id": "d1950617",
   "metadata": {},
   "outputs": [],
   "source": [
    "Pe = 100\n",
    "U0 = 0\n",
    "Un = 1\n",
    "N = 100\n",
    "h = abs(Un - U0) / N\n",
    "x = np.linspace(U0, Un, N)"
   ]
  },
  {
   "cell_type": "markdown",
   "id": "8fd0d31d",
   "metadata": {},
   "source": [
    "## Решение стационарного уравнения конвекции-диффузии с помощью метода конечных разностей: \n",
    "\n",
    "1) Дискретизация первого порядка точности (левосторонняя):\n",
    "\n",
    "$$Pe\\frac{u_{i}-u_{i-1}}{\\bigtriangleup x} - \\frac{u_{i+1}-2u_{i}+u_{i-1}}{(\\bigtriangleup x)^2}=0$$\n",
    "\n",
    "2) Дискретизация первого порядка точности (правосторонняя):\n",
    "\n",
    "$$Pe\\frac{u_{i+1}-u_{i}}{\\bigtriangleup x} - \\frac{u_{i+1}-2u_{i}+u_{i-1}}{(\\bigtriangleup x)^2}=0$$\n",
    "\n",
    "3) Дискретизация второго порядка точности (центральная):\n",
    "\n",
    "$$Pe\\frac{u_{i+1}-u_{i-1}}{2\\bigtriangleup x} - \\frac{u_{i+1}-2u_{i}+u_{i-1}}{(\\bigtriangleup x)^2}=0$$"
   ]
  },
  {
   "cell_type": "code",
   "execution_count": 3,
   "id": "7f7f68a6",
   "metadata": {},
   "outputs": [],
   "source": [
    "class Problem:\n",
    "    def __init__(self, n):\n",
    "        self.scheme = \"\"\n",
    "        self.a = np.zeros(n - 1)\n",
    "        self.b = np.zeros(n)\n",
    "        self.c = np.zeros(n - 1)\n",
    "        self.f = np.zeros(n)\n",
    "        self.n = n\n",
    "        self.Pe = 0\n",
    "        self.h = 1\n",
    "\n",
    "    def set_conditions(self, u0, un, Pe, scheme=\"left\"): \n",
    "        \n",
    "    \n",
    "        self.scheme = scheme\n",
    "        self.Pe = Pe\n",
    "        self.h = abs(un - u0) / self.n\n",
    "\n",
    "        self.f[0] = u0\n",
    "        self.f[self.n - 1] = un\n",
    "        for i in range(1, self.n - 1):\n",
    "            self.f[i] = 0\n",
    "            \n",
    "        # Схемы порядка сходимости O(h)\n",
    "        \n",
    "        if self.scheme == \"left\":\n",
    "            self.a[self.n - 2] = 0\n",
    "            for i in range(0, self.n - 2):\n",
    "                self.a[i] = self.Pe * (-1) / self.h - 1 / self.h ** 2\n",
    "\n",
    "            self.b[0] = 1\n",
    "            self.b[self.n - 1] = 1\n",
    "            for i in range(1, self.n - 1):\n",
    "                self.b[i] = self.Pe * 1 / self.h + 2 / self.h ** 2\n",
    "\n",
    "            self.c[0] = 0\n",
    "            for i in range(1, self.n - 1):\n",
    "                self.c[i] = -1 / self.h ** 2\n",
    "\n",
    "        elif self.scheme == \"right\":\n",
    "            self.a[self.n - 2] = 0\n",
    "            for i in range(0, self.n - 2):\n",
    "                self.a[i] = - 1 / self.h ** 2\n",
    "\n",
    "            self.b[0] = 1\n",
    "            self.b[self.n - 1] = 1\n",
    "            for i in range(1, self.n - 1):\n",
    "                self.b[i] = -self.Pe / self.h + 2 / self.h ** 2\n",
    "\n",
    "            self.c[0] = 0\n",
    "            for i in range(1, self.n - 1):\n",
    "                self.c[i] = self.Pe / self.h - 1 / self.h ** 2\n",
    "            \n",
    "        # Схема порядка сходимости O(h^2)\n",
    "\n",
    "        elif self.scheme == \"center\":  \n",
    "            self.a[self.n - 2] = 0\n",
    "            for i in range(0, self.n - 2):\n",
    "                self.a[i] = self.Pe * (-1) / self.h / 2 - 1 / self.h ** 2\n",
    "\n",
    "            self.b[0] = 1\n",
    "            self.b[self.n - 1] = 1\n",
    "            for i in range(1, self.n - 1):\n",
    "                self.b[i] = 2 / self.h ** 2\n",
    "\n",
    "            self.c[0] = 0\n",
    "            for i in range(1, self.n - 1):\n",
    "                self.c[i] = self.Pe / self.h / 2 - 1 / self.h ** 2\n",
    "\n",
    "    def an_solution(self, x):\n",
    "        return (np.exp(self.Pe * x) - 1) / (exp(self.Pe) - 1)\n",
    "\n",
    "    def solve(self):\n",
    "        b_quote = np.zeros(self.n)\n",
    "        f_quote = np.zeros(self.n)\n",
    "        u = np.zeros(self.n)\n",
    "\n",
    "        b_quote[0] = self.b[0]\n",
    "        f_quote[0] = self.f[0]\n",
    "        for i in range(1, self.n):\n",
    "            try:\n",
    "                b_quote[i] = self.b[i] - self.a[i - 1] / b_quote[i - 1] * self.c[i - 1]\n",
    "                f_quote[i] = self.f[i] - self.a[i - 1] / b_quote[i - 1] * f_quote[i - 1]\n",
    "            except:\n",
    "                print(\"zero-error\")\n",
    "                pass\n",
    "\n",
    "        u[self.n - 1] = f_quote[self.n - 1] / b_quote[self.n - 1]\n",
    "        for i in range(self.n - 2, -1, -1):\n",
    "            u[i] = (f_quote[i] - self.c[i] * u[i + 1]) / b_quote[i]\n",
    "\n",
    "        return u"
   ]
  },
  {
   "cell_type": "markdown",
   "id": "967dfbaa",
   "metadata": {},
   "source": [
    "## Пример решений с шагом сетки $h = 0.01$ при разных числах Пекле"
   ]
  },
  {
   "cell_type": "code",
   "execution_count": 4,
   "id": "6ec0bfe8",
   "metadata": {},
   "outputs": [
    {
     "data": {
      "image/png": "[encoded data removed]",
      "text/plain": [
       "<Figure size 432x288 with 1 Axes>"
      ]
     },
     "metadata": {
      "needs_background": "light"
     },
     "output_type": "display_data"
    }
   ],
   "source": [
    "if __name__ == \"__main__\":\n",
    "    p = Problem(N)\n",
    "    for param in [1, 1 / 2, 10, 100]:\n",
    "        p.set_conditions(U0, Un, param, scheme=\"center\")\n",
    "        plt.plot(x, p.an_solution(x), color=\"g\", linestyle=\"dashed\")\n",
    "        plt.plot(x, p.solve(), label = \"Pe = \"+ str(param))\n",
    "    plt.grid()\n",
    "    plt.legend(bbox_to_anchor=(1, 0.6))\n",
    "    plt.show()\n"
   ]
  },
  {
   "cell_type": "markdown",
   "id": "42053d94",
   "metadata": {},
   "source": [
    "## Примеры решений с шагом сетки $h = 0.1$ и $h = 0.01$ "
   ]
  },
  {
   "cell_type": "code",
   "execution_count": 5,
   "id": "c829614d",
   "metadata": {},
   "outputs": [
    {
     "data": {
      "image/png": "[encoded data removed]",
      "text/plain": [
       "<Figure size 432x288 with 1 Axes>"
      ]
     },
     "metadata": {
      "needs_background": "light"
     },
     "output_type": "display_data"
    },
    {
     "data": {
      "image/png": "[encoded data removed]",
      "text/plain": [
       "<Figure size 432x288 with 1 Axes>"
      ]
     },
     "metadata": {
      "needs_background": "light"
     },
     "output_type": "display_data"
    }
   ],
   "source": [
    "Pe = 100\n",
    "U0 = 0\n",
    "Un = 1\n",
    "\n",
    "for N in [10,100]:\n",
    "    h = abs(Un - U0) / N\n",
    "    x = np.linspace(U0, Un, N)\n",
    "    p = Problem(N)\n",
    "    \n",
    "    \n",
    "    fig = plt.figure()\n",
    "    ax = fig.add_subplot(111)\n",
    "    \n",
    "    p.set_conditions(U0, Un, Pe, scheme=\"left\")\n",
    "    ax.plot(x, p.an_solution(x), linestyle=\"dashed\", label = \"точное решение\")\n",
    "    ax.plot(x, p.solve(), label = f\"O(h), шаг = {h}\")\n",
    "    \n",
    "    p.set_conditions(U0, Un, Pe, scheme=\"center\")\n",
    "    ax.plot(x, p.an_solution(x), linestyle=\"dashed\", label = \"точное решение\")\n",
    "    ax.plot(x, p.solve(), label = f\"O($h^2$), шаг = {h}\")\n",
    "    \n",
    "    plt.grid()\n",
    "    plt.legend(bbox_to_anchor=(1, 0.6))\n",
    "    plt.show()\n"
   ]
  },
  {
   "cell_type": "markdown",
   "id": "b16835ee",
   "metadata": {},
   "source": [
    "При дискретизации второго порядка точности с большим шагом наблюдаются осцилляции, с измельчением сетки такой эффект исчезает. Наклон численного решения становится более крутым и близким к точному решению при измельчении сетки."
   ]
  },
  {
   "cell_type": "markdown",
   "id": "f1811bba",
   "metadata": {},
   "source": [
    "Во всех случаях выполнен принцип максимума:\n",
    "\n",
    "$$0\\leq u(x)\\leq 1$$ $$\\forall x\\in (0,1)$$\n",
    "\n",
    "кроме дискретизации второго порядка, при не выполнении условия: $Pe\\bigtriangleup x\\leq 2$. Если условие не выпонено наблюдаются осцилляции.\n",
    "\n"
   ]
  },
  {
   "cell_type": "markdown",
   "id": "22b5584c",
   "metadata": {},
   "source": [
    "## Оценка скорости сходимости (с $L^{2}$  нормой)"
   ]
  },
  {
   "cell_type": "markdown",
   "id": "b5d2cf4d",
   "metadata": {},
   "source": [
    "\n",
    "## Левосторонняя схема"
   ]
  },
  {
   "cell_type": "code",
   "execution_count": 6,
   "id": "506ca06f",
   "metadata": {},
   "outputs": [],
   "source": [
    "Pe = 100\n",
    "U0 = 0\n",
    "Un = 1\n",
    "N = 50\n",
    "h = abs(Un - U0) / N\n",
    "x = np.linspace(U0, Un, N)\n",
    "p = Problem(N)\n",
    "p.set_conditions(U0, Un, Pe, scheme=\"left\")\n",
    "u_analytic = p.an_solution(x)\n",
    "u = p.solve()"
   ]
  },
  {
   "cell_type": "code",
   "execution_count": 7,
   "id": "b98cbecb",
   "metadata": {},
   "outputs": [
    {
     "data": {
      "text/plain": [
       "0.22723059912883561"
      ]
     },
     "execution_count": 7,
     "metadata": {},
     "output_type": "execute_result"
    }
   ],
   "source": [
    "np.linalg.norm(u_analytic - u)"
   ]
  },
  {
   "cell_type": "code",
   "execution_count": 178,
   "id": "18271520",
   "metadata": {},
   "outputs": [
    {
     "data": {
      "text/html": [
       "<div>\n",
       "<style scoped>\n",
       "    .dataframe tbody tr th:only-of-type {\n",
       "        vertical-align: middle;\n",
       "    }\n",
       "\n",
       "    .dataframe tbody tr th {\n",
       "        vertical-align: top;\n",
       "    }\n",
       "\n",
       "    .dataframe thead th {\n",
       "        text-align: right;\n",
       "    }\n",
       "</style>\n",
       "<table border=\"1\" class=\"dataframe\">\n",
       "  <thead>\n",
       "    <tr style=\"text-align: right;\">\n",
       "      <th></th>\n",
       "      <th>h</th>\n",
       "      <th>Pe = 1</th>\n",
       "      <th>Pe = 0.5</th>\n",
       "      <th>Pe = 10</th>\n",
       "      <th>Pe = 100</th>\n",
       "    </tr>\n",
       "  </thead>\n",
       "  <tbody>\n",
       "    <tr>\n",
       "      <th>0</th>\n",
       "      <td>0.10</td>\n",
       "      <td>0.0375</td>\n",
       "      <td>0.0165</td>\n",
       "      <td>0.2438</td>\n",
       "      <td>0.0913</td>\n",
       "    </tr>\n",
       "    <tr>\n",
       "      <th>1</th>\n",
       "      <td>0.05</td>\n",
       "      <td>0.0279</td>\n",
       "      <td>0.0121</td>\n",
       "      <td>0.1905</td>\n",
       "      <td>0.1639</td>\n",
       "    </tr>\n",
       "    <tr>\n",
       "      <th>2</th>\n",
       "      <td>0.02</td>\n",
       "      <td>0.0182</td>\n",
       "      <td>0.0079</td>\n",
       "      <td>0.1280</td>\n",
       "      <td>0.2272</td>\n",
       "    </tr>\n",
       "    <tr>\n",
       "      <th>3</th>\n",
       "      <td>0.01</td>\n",
       "      <td>0.0130</td>\n",
       "      <td>0.0056</td>\n",
       "      <td>0.0925</td>\n",
       "      <td>0.2024</td>\n",
       "    </tr>\n",
       "  </tbody>\n",
       "</table>\n",
       "</div>"
      ],
      "text/plain": [
       "      h  Pe = 1  Pe = 0.5  Pe = 10  Pe = 100\n",
       "0  0.10  0.0375    0.0165   0.2438    0.0913\n",
       "1  0.05  0.0279    0.0121   0.1905    0.1639\n",
       "2  0.02  0.0182    0.0079   0.1280    0.2272\n",
       "3  0.01  0.0130    0.0056   0.0925    0.2024"
      ]
     },
     "execution_count": 178,
     "metadata": {},
     "output_type": "execute_result"
    }
   ],
   "source": [
    "df = pd.DataFrame({\"h\": [0.1, 1/20, 1/50, 0.01],\n",
    "                   \"Pe = 1\": [0.0375, 0.0279, 0.0182, 0.0130],\n",
    "                   \"Pe = 0.5\": [0.0165, 0.0121, 0.0079, 0.0056],\n",
    "                   \"Pe = 10\": [0.2438, 0.1905, 0.1280, 0.0925],\n",
    "                   \"Pe = 100\": [0.0913, 0.1639, 0.2272, 0.2024],\n",
    "                  })\n",
    "df"
   ]
  },
  {
   "cell_type": "markdown",
   "id": "ac4408dd",
   "metadata": {},
   "source": [
    "## Центральная схема:"
   ]
  },
  {
   "cell_type": "code",
   "execution_count": 8,
   "id": "2d26a75c",
   "metadata": {},
   "outputs": [],
   "source": [
    "Pe = 100\n",
    "U0 = 0\n",
    "Un = 1\n",
    "N = 100\n",
    "h = abs(Un - U0) / N\n",
    "x = np.linspace(U0, Un, N)\n",
    "p = Problem(N)\n",
    "p.set_conditions(U0, Un, Pe, scheme=\"center\")\n",
    "u_analytic = p.an_solution(x)\n",
    "u = p.solve()"
   ]
  },
  {
   "cell_type": "code",
   "execution_count": 9,
   "id": "893889ec",
   "metadata": {},
   "outputs": [
    {
     "data": {
      "text/plain": [
       "0.039691259918842654"
      ]
     },
     "execution_count": 9,
     "metadata": {},
     "output_type": "execute_result"
    }
   ],
   "source": [
    "np.linalg.norm(u_analytic - u)"
   ]
  },
  {
   "cell_type": "code",
   "execution_count": 257,
   "id": "297ad831",
   "metadata": {},
   "outputs": [
    {
     "data": {
      "text/html": [
       "<div>\n",
       "<style scoped>\n",
       "    .dataframe tbody tr th:only-of-type {\n",
       "        vertical-align: middle;\n",
       "    }\n",
       "\n",
       "    .dataframe tbody tr th {\n",
       "        vertical-align: top;\n",
       "    }\n",
       "\n",
       "    .dataframe thead th {\n",
       "        text-align: right;\n",
       "    }\n",
       "</style>\n",
       "<table border=\"1\" class=\"dataframe\">\n",
       "  <thead>\n",
       "    <tr style=\"text-align: right;\">\n",
       "      <th></th>\n",
       "      <th>h</th>\n",
       "      <th>Pe = 1</th>\n",
       "      <th>Pe = 0.5</th>\n",
       "      <th>Pe = 10</th>\n",
       "      <th>Pe = 100</th>\n",
       "    </tr>\n",
       "  </thead>\n",
       "  <tbody>\n",
       "    <tr>\n",
       "      <th>0</th>\n",
       "      <td>0.10</td>\n",
       "      <td>0.0261</td>\n",
       "      <td>0.0135</td>\n",
       "      <td>0.0052</td>\n",
       "      <td>0.8631</td>\n",
       "    </tr>\n",
       "    <tr>\n",
       "      <th>1</th>\n",
       "      <td>0.05</td>\n",
       "      <td>0.0190</td>\n",
       "      <td>0.0098</td>\n",
       "      <td>0.0207</td>\n",
       "      <td>0.4790</td>\n",
       "    </tr>\n",
       "    <tr>\n",
       "      <th>2</th>\n",
       "      <td>0.02</td>\n",
       "      <td>0.0122</td>\n",
       "      <td>0.0063</td>\n",
       "      <td>0.0187</td>\n",
       "      <td>0.1310</td>\n",
       "    </tr>\n",
       "    <tr>\n",
       "      <th>3</th>\n",
       "      <td>0.01</td>\n",
       "      <td>0.0087</td>\n",
       "      <td>0.0045</td>\n",
       "      <td>0.0145</td>\n",
       "      <td>0.0397</td>\n",
       "    </tr>\n",
       "  </tbody>\n",
       "</table>\n",
       "</div>"
      ],
      "text/plain": [
       "      h  Pe = 1  Pe = 0.5  Pe = 10  Pe = 100\n",
       "0  0.10  0.0261    0.0135   0.0052    0.8631\n",
       "1  0.05  0.0190    0.0098   0.0207    0.4790\n",
       "2  0.02  0.0122    0.0063   0.0187    0.1310\n",
       "3  0.01  0.0087    0.0045   0.0145    0.0397"
      ]
     },
     "execution_count": 257,
     "metadata": {},
     "output_type": "execute_result"
    }
   ],
   "source": [
    "df = pd.DataFrame({\"h\": [0.1, 1/20, 1/50, 0.01],\n",
    "                   \"Pe = 1\": [0.0261, 0.0190, 0.0122, 0.0087],\n",
    "                   \"Pe = 0.5\": [0.0135, 0.0098, 0.0063, 0.0045],\n",
    "                   \"Pe = 10\": [0.0052, 0.0207, 0.0187, 0.0145],\n",
    "                   \"Pe = 100\": [0.8631, 0.4790, 0.1310, 0.0397],\n",
    "                  })\n",
    "df"
   ]
  },
  {
   "cell_type": "markdown",
   "id": "fcc63ae0",
   "metadata": {},
   "source": [
    "## Общие выводы:\n",
    "\n",
    "1) Численное решение, полученное с помощью центральной разностной схемы, сходится к точному с порядком $O(h^{2})$. А с помощью левосторонней и правостонней схем с порядком $O(h)$\n",
    "\n",
    "2) Принцип максимума для нецентральных схем выполнен всегда. Для центральной схемы достаточным условием выполнения принципа максимума является условие: $Pe\\bigtriangleup x\\leq 2$. "
   ]
  }
 ],
 "metadata": {
  "kernelspec": {
   "display_name": "Python 3 (ipykernel)",
   "language": "python",
   "name": "python3"
  },
  "language_info": {
   "codemirror_mode": {
    "name": "ipython",
    "version": 3
   },
   "file_extension": ".py",
   "mimetype": "text/x-python",
   "name": "python",
   "nbconvert_exporter": "python",
   "pygments_lexer": "ipython3",
   "version": "3.9.2"
  }
 },
 "nbformat": 4,
 "nbformat_minor": 5
}
