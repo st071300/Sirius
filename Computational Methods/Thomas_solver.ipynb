{
 "cells": [
  {
   "cell_type": "code",
   "execution_count": 1,
   "id": "98bd0390",
   "metadata": {},
   "outputs": [],
   "source": [
    "import random\n",
    "import time\n",
    "import numpy as np\n",
    "from sys import stderr"
   ]
  },
  {
   "cell_type": "code",
   "execution_count": 2,
   "id": "c9406aa4",
   "metadata": {},
   "outputs": [],
   "source": [
    "def create_sys2():\n",
    "    du = np.array([0.0475, 0.0523, 0.057])\n",
    "    d = np.array([10.8, 9.9, 9.0, 8.1])\n",
    "    dl = np.array([0.0, 0.0321, 0.0369, 0.0416])\n",
    "    b = np.array([12.1430, 13.0897, 13.6744, 13.8972])\n",
    "    \n",
    "    return du, d, dl, b"
   ]
  },
  {
   "cell_type": "code",
   "execution_count": 3,
   "id": "189b502c",
   "metadata": {},
   "outputs": [],
   "source": [
    "# def create_sys2():\n",
    "#     N = 100\n",
    "#     d = 2+np.random.rand(N) # d от 2 до 3\n",
    "#     du = -np.random.rand(N) # du от -1 до 0\n",
    "#     dl = -np.random.rand(N) # dl от -1 до 0\n",
    "#     b = 2*np.random.rand(N)-1 # b от -1 до 1\n",
    "\n",
    "#     return du, d, dl, b\n",
    "    "
   ]
  },
  {
   "cell_type": "code",
   "execution_count": 4,
   "id": "9a12938d",
   "metadata": {},
   "outputs": [],
   "source": [
    "def thomas_solver2( du, d, dl, h):\n",
    "    if d.all() == 0 or d[0]==0:\n",
    "        stderr.write('rewrite matrix A')\n",
    "        exit(-1)\n",
    "    \n",
    "    N = len(d)\n",
    "\n",
    "    q = np.zeros(N)\n",
    "    g = np.zeros(N)\n",
    "    w = np.zeros(N)  \n",
    "    u = np.zeros(N)\n",
    "    \n",
    "    # forward\n",
    "    q[0] = du[0] / d[0]\n",
    "    g[0] = h[0] / d[0]\n",
    "\n",
    "\n",
    "    \n",
    "    for i in range(1, N):\n",
    "        w[i] = d[i] - dl[i] * q[i - 1]\n",
    "        if w[i] == 0:\n",
    "            q[i] = 0\n",
    "            g[i] = 0\n",
    "            \n",
    "        if i != N - 1:\n",
    "            q[i] = du[i] / w[i]\n",
    "        \n",
    "        g[i] = (h[i] - dl[i] * g[i - 1]) / w[i]\n",
    "\n",
    "    # backward\n",
    "    u[N - 1] = g[N - 1]\n",
    "    \n",
    "    for i in range(N - 2, -1, -1):  \n",
    "        u[i] = g[i] - q[i] * u[i + 1]\n",
    "\n",
    "    return u"
   ]
  },
  {
   "cell_type": "code",
   "execution_count": 5,
   "id": "66134061",
   "metadata": {},
   "outputs": [
    {
     "name": "stdout",
     "output_type": "stream",
     "text": [
      "<class 'numpy.ndarray'>\n",
      "[[0, 0, 0, 0], [0, 0, 0, 0], [0, 0, 0, 0], [0, 0, 0, 0]]\n",
      "[[10.8, 0.0475, 0, 0], [0.0321, 9.9, 0.0523, 0], [0, 0.0369, 9.0, 0.057], [0, 0, 0.0416, 8.1]]\n"
     ]
    }
   ],
   "source": [
    "du, d, dl, b = create_sys2()\n",
    "print(type(b))\n",
    "\n",
    "a = len(d)          \n",
    "A = [0] * a \n",
    "for i in range(a): \n",
    "    A[i] = [0] * a \n",
    "print(A)\n",
    "\n",
    "for i in range(a):\n",
    "    A[i][i] = d[i]\n",
    "    \n",
    "for i in range(a-1):  \n",
    "     for j in range(a):\n",
    "        j = i\n",
    "        A[i][j+1] = du[i] \n",
    "\n",
    "for i in range(1,a):  \n",
    "     for j in range(a):\n",
    "        j = i\n",
    "        A[i][j-1] = dl[i] \n",
    "\n",
    "print(A)\n"
   ]
  },
  {
   "cell_type": "code",
   "execution_count": 6,
   "id": "6385c8c6",
   "metadata": {},
   "outputs": [
    {
     "name": "stdout",
     "output_type": "stream",
     "text": [
      "[1.11858753 1.31062391 1.50318699 1.70798363]\n",
      "time of np.linalg.solve:  0.00015101194381713867 ms\n",
      "my_solution =  [1.11858753 1.31062391 1.50318699 1.70798363]\n",
      "time of my solver:  0.0 ms\n",
      "norm:  2.220446049250313e-16\n"
     ]
    }
   ],
   "source": [
    "start_time = time.time()\n",
    "linalg_solution = np.linalg.solve(A, b)\n",
    "print(linalg_solution)\n",
    "end_time = time.time()\n",
    "print('time of np.linalg.solve: ',(time.time() - start_time)/100, 'ms')\n",
    "\n",
    "start_time = time.time()\n",
    "my_solution = thomas_solver2(du, d, dl, b)\n",
    "print(\"my_solution = \", my_solution)\n",
    "end_time = time.time()\n",
    "print('time of my solver: ', (time.time() - start_time) / 100, 'ms')\n",
    "\n",
    "norm = 0\n",
    "for i in range(len(my_solution)):\n",
    "    if np.abs(my_solution[i] - linalg_solution[i]) > norm:\n",
    "        norm = abs(my_solution[i] - linalg_solution[i])\n",
    "print('norm: ', norm)\n"
   ]
  },
  {
   "cell_type": "code",
   "execution_count": 7,
   "id": "94aae0c1",
   "metadata": {},
   "outputs": [
    {
     "data": {
      "text/plain": [
       "array([-1.77635684e-15,  0.00000000e+00, -3.55271368e-15,  0.00000000e+00])"
      ]
     },
     "execution_count": 7,
     "metadata": {},
     "output_type": "execute_result"
    }
   ],
   "source": [
    "r = np.matmul(A,my_solution) - b  # невязка\n",
    "r"
   ]
  },
  {
   "cell_type": "code",
   "execution_count": 8,
   "id": "d1253704",
   "metadata": {},
   "outputs": [
    {
     "name": "stdout",
     "output_type": "stream",
     "text": [
      "L2-norm:  3.972054645195637e-15\n"
     ]
    }
   ],
   "source": [
    "print(\"L2-norm: \", np.linalg.norm(r))"
   ]
  },
  {
   "cell_type": "code",
   "execution_count": null,
   "id": "603fb855",
   "metadata": {},
   "outputs": [],
   "source": []
  },
  {
   "cell_type": "code",
   "execution_count": null,
   "id": "93152ee9",
   "metadata": {},
   "outputs": [],
   "source": []
  },
  {
   "cell_type": "code",
   "execution_count": null,
   "id": "789af1da",
   "metadata": {},
   "outputs": [],
   "source": []
  }
 ],
 "metadata": {
  "kernelspec": {
   "display_name": "Python 3 (ipykernel)",
   "language": "python",
   "name": "python3"
  },
  "language_info": {
   "codemirror_mode": {
    "name": "ipython",
    "version": 3
   },
   "file_extension": ".py",
   "mimetype": "text/x-python",
   "name": "python",
   "nbconvert_exporter": "python",
   "pygments_lexer": "ipython3",
   "version": "3.9.2"
  }
 },
 "nbformat": 4,
 "nbformat_minor": 5
}
