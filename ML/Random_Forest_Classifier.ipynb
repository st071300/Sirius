{
 "cells": [
  {
   "cell_type": "code",
   "execution_count": 1,
   "id": "077b48db",
   "metadata": {},
   "outputs": [],
   "source": [
    "import numpy as np\n",
    "import matplotlib.pyplot as plt\n",
    "from matplotlib.colors import ListedColormap\n",
    "from sklearn.datasets import load_breast_cancer\n",
    "from sklearn.ensemble import RandomForestClassifier\n",
    "from sklearn.model_selection import train_test_split\n",
    "from sklearn.model_selection import GridSearchCV\n",
    "import numpy as np\n",
    "\n",
    "%matplotlib inline"
   ]
  },
  {
   "cell_type": "code",
   "execution_count": 3,
   "id": "61fe5965",
   "metadata": {},
   "outputs": [],
   "source": [
    "X,y = load_breast_cancer()['data'],load_breast_cancer()['target']\n",
    "X_train,X_test,y_train,y_test = train_test_split(X,y,test_size=0.3)"
   ]
  },
  {
   "cell_type": "code",
   "execution_count": 7,
   "id": "da40e39c",
   "metadata": {},
   "outputs": [],
   "source": [
    "param_dict = {\n",
    "    'max_depth': np.arange(1,10),\n",
    "    'max_samples':np.linspace(0.5,0.9,6),\n",
    "    'max_features':np.linspace(0.5,1.0,6),\n",
    "    'n_estimators':np.arange(1,25,3)\n",
    "}"
   ]
  },
  {
   "cell_type": "code",
   "execution_count": 9,
   "id": "fb4afad5",
   "metadata": {},
   "outputs": [],
   "source": [
    "gscv = GridSearchCV(estimator=RandomForestClassifier(),\n",
    "                   param_grid=param_dict,\n",
    "                   scoring='accuracy',\n",
    "                   cv=5,n_jobs=-1, error_score='raise')"
   ]
  },
  {
   "cell_type": "code",
   "execution_count": 10,
   "id": "21a674bf",
   "metadata": {},
   "outputs": [
    {
     "data": {
      "text/plain": [
       "GridSearchCV(cv=5, error_score='raise', estimator=RandomForestClassifier(),\n",
       "             n_jobs=-1,\n",
       "             param_grid={'max_depth': array([1, 2, 3, 4, 5, 6, 7, 8, 9]),\n",
       "                         'max_features': array([0.5, 0.6, 0.7, 0.8, 0.9, 1. ]),\n",
       "                         'max_samples': array([0.5 , 0.58, 0.66, 0.74, 0.82, 0.9 ]),\n",
       "                         'n_estimators': array([ 1,  4,  7, 10, 13, 16, 19, 22])},\n",
       "             scoring='accuracy')"
      ]
     },
     "execution_count": 10,
     "metadata": {},
     "output_type": "execute_result"
    }
   ],
   "source": [
    "gscv.fit(X_train,y_train)"
   ]
  },
  {
   "cell_type": "code",
   "execution_count": 11,
   "id": "54bebcb2",
   "metadata": {},
   "outputs": [
    {
     "name": "stdout",
     "output_type": "stream",
     "text": [
      "Best score: 0.9723734177215191\n"
     ]
    }
   ],
   "source": [
    "print(f\"Best score: {gscv.best_score_}\")"
   ]
  },
  {
   "cell_type": "code",
   "execution_count": 18,
   "id": "e0e1482e",
   "metadata": {},
   "outputs": [
    {
     "name": "stdout",
     "output_type": "stream",
     "text": [
      "Best parameters: {'max_depth': 5, 'max_features': 0.5, 'max_samples': 0.9, 'n_estimators': 10}\n"
     ]
    }
   ],
   "source": [
    "best_params = gscv.best_params_\n",
    "print(f\"Best parameters: {gscv.best_params_}\")"
   ]
  },
  {
   "cell_type": "code",
   "execution_count": 12,
   "id": "95121888",
   "metadata": {},
   "outputs": [
    {
     "name": "stdout",
     "output_type": "stream",
     "text": [
      "0.9298245614035088\n"
     ]
    }
   ],
   "source": [
    "y_pred = gscv.best_estimator_.predict(X_test)\n",
    "print((y_pred == y_test).sum()/len(y_test))"
   ]
  },
  {
   "cell_type": "code",
   "execution_count": 22,
   "id": "34055d78",
   "metadata": {},
   "outputs": [],
   "source": [
    "best_max_depth = list(best_params.values())[0]\n",
    "best_max_features = list(best_params.values())[1]\n",
    "best_max_samples = list(best_params.values())[2]\n",
    "best_n_estimators = list(best_params.values())[3]"
   ]
  },
  {
   "cell_type": "code",
   "execution_count": 23,
   "id": "cb0579a6",
   "metadata": {},
   "outputs": [
    {
     "data": {
      "text/plain": [
       "RandomForestClassifier(max_depth=5, max_features=0.5, max_samples=0.9,\n",
       "                       n_estimators=10)"
      ]
     },
     "execution_count": 23,
     "metadata": {},
     "output_type": "execute_result"
    }
   ],
   "source": [
    "tree = RandomForestClassifier(n_estimators=best_n_estimators,\n",
    "                             max_depth=best_max_depth,\n",
    "                             max_features=best_max_features,\n",
    "                             max_samples=best_max_samples)\n",
    "tree.fit(X_train,y_train)"
   ]
  },
  {
   "cell_type": "code",
   "execution_count": 41,
   "id": "07780cef",
   "metadata": {},
   "outputs": [
    {
     "data": {
      "text/plain": [
       "0.9298245614035088"
      ]
     },
     "execution_count": 41,
     "metadata": {},
     "output_type": "execute_result"
    }
   ],
   "source": [
    "y_pred = tree.predict(X_test)\n",
    "(y_pred == y_test).sum()/len(y_test)"
   ]
  },
  {
   "cell_type": "code",
   "execution_count": null,
   "id": "8a1833e6",
   "metadata": {},
   "outputs": [],
   "source": []
  }
 ],
 "metadata": {
  "kernelspec": {
   "display_name": "Python 3 (ipykernel)",
   "language": "python",
   "name": "python3"
  },
  "language_info": {
   "codemirror_mode": {
    "name": "ipython",
    "version": 3
   },
   "file_extension": ".py",
   "mimetype": "text/x-python",
   "name": "python",
   "nbconvert_exporter": "python",
   "pygments_lexer": "ipython3",
   "version": "3.9.2"
  }
 },
 "nbformat": 4,
 "nbformat_minor": 5
}
